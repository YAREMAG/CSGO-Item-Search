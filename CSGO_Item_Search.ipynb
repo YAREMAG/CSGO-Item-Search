{
  "nbformat": 4,
  "nbformat_minor": 0,
  "metadata": {
    "colab": {
      "provenance": [],
      "authorship_tag": "ABX9TyNihPizoLW2XECM5wDBFYlo"
    },
    "kernelspec": {
      "name": "python3",
      "display_name": "Python 3"
    },
    "language_info": {
      "name": "python"
    }
  },
  "cells": [
    {
      "cell_type": "markdown",
      "source": [
        "Function to generate latest information on on all items\n"
      ],
      "metadata": {
        "id": "GCRR0F33uRDq"
      }
    },
    {
      "cell_type": "code",
      "execution_count": null,
      "metadata": {
        "id": "BsPrKRcnuLXu"
      },
      "outputs": [],
      "source": [
        "import requests\n",
        "import pandas as pd\n",
        "import os\n",
        "\n",
        "item_types = ['Collectible', 'Container', 'Gloves', 'Gift', 'Pass', 'Operator','Music Kit', 'Graffiti', 'Weapon', 'Key']\n",
        "weapon_types = ['Knife', 'Sniper Rifle', 'SMG', 'Rifle', 'Shotgun', 'Pistol', 'Machinegun']\n",
        "knife_types = ['Classic Knife', 'M9 Bayonet', 'Stiletto Knife', 'Gut Knife', 'Nomad Knife', 'Bayonet', 'Skeleton Knife', 'Karambit', 'Flip Knife', 'Shadow Daggers', 'Paracord Knife', 'Survival Knife', 'Talon Knife', 'Bowie Knife', 'Navaja Knife', 'Huntsman Knife', 'Falchion Knife', 'Ursus Knife', 'Butterfly Knife']\n",
        "\n",
        "# API endpoint URL\n",
        "url = \"http://csgobackpack.net/api/GetItemsList/v2/\"\n",
        "\n",
        "# Directory to store excel files\n",
        "output_dir = \"Workbooks\"\n",
        "os.makedirs(output_dir, exist_ok=True)\n",
        "\n",
        "def generate_excel_for_items():\n",
        "    response = requests.get(url)\n",
        "\n",
        "    if response.status_code == 200:\n",
        "        data = response.json()\n",
        "\n",
        "        for item in item_types:\n",
        "            items = []\n",
        "            for i, (item_name, item_properties) in enumerate(data['items_list'].items()):\n",
        "\n",
        "                if item_properties['type'] == item:\n",
        "                    items.append(item_properties)\n",
        "\n",
        "            df = pd.DataFrame(items)\n",
        "            df.to_excel(f'{output_dir}/{item}_data.xlsx', index=False)\n",
        "\n",
        "def generate_excel_for_weapons():\n",
        "    response = requests.get(url)\n",
        "\n",
        "    if response.status_code == 200:\n",
        "        data = response.json()\n",
        "\n",
        "        for weapon in weapon_types:\n",
        "            items = []\n",
        "            for i, (item_name, item_properties) in enumerate(data['items_list'].items()):\n",
        "\n",
        "                if item_properties.get('weapon_type') == weapon:\n",
        "                    items.append(item_properties)\n",
        "\n",
        "            df = pd.DataFrame(items)\n",
        "            with pd.ExcelWriter(f'{output_dir}/{weapon}_data.xlsx') as writer:\n",
        "                df.to_excel(writer, sheet_name=weapon, index=False)\n",
        "\n",
        "def generate_excel_for_knives():\n",
        "    response = requests.get(url)\n",
        "\n",
        "    if response.status_code == 200:\n",
        "        data = response.json()\n",
        "\n",
        "        with pd.ExcelWriter(f'{output_dir}/Knife_data.xlsx') as writer:\n",
        "            for knife in knife_types:\n",
        "                items = []\n",
        "                for i, (item_name, item_properties) in enumerate(data['items_list'].items()):\n",
        "\n",
        "                    if item_properties.get('weapon_type') == 'Knife' and item_properties.get('knife_type') == knife:\n",
        "                        items.append(item_properties)\n",
        "\n",
        "                df = pd.DataFrame(items)\n",
        "                df.to_excel(writer, sheet_name=knife, index=False)\n",
        "\n",
        "generate_excel_for_items()\n",
        "generate_excel_for_weapons()\n",
        "generate_excel_for_knives()\n"
      ]
    },
    {
      "cell_type": "markdown",
      "source": [
        "Find all types of items on CSGO market"
      ],
      "metadata": {
        "id": "jOZmTy__hFyp"
      }
    },
    {
      "cell_type": "code",
      "source": [
        "# import requests\n",
        "# import os\n",
        "\n",
        "# def get_all_types_and_weapon_types():\n",
        "#     # API endpoint URL\n",
        "#     url = \"http://csgobackpack.net/api/GetItemsList/v2/\"\n",
        "\n",
        "#     # Send GET request to the API endpoint\n",
        "#     response = requests.get(url)\n",
        "\n",
        "#     types = set()\n",
        "#     weapon_types = set()\n",
        "#     knife_types = set()\n",
        "\n",
        "#     # If the request was successful\n",
        "#     if response.status_code == 200:\n",
        "#         data = response.json()\n",
        "#         for item_name, item_properties in data['items_list'].items():\n",
        "#             types.add(item_properties.get('type'))\n",
        "#             if 'weapon_type' in item_properties:\n",
        "#                 weapon_types.add(item_properties['weapon_type'])\n",
        "#             if 'knife_type' in item_properties:\n",
        "#                 knife_types.add(item_properties['knife_type'])\n",
        "\n",
        "#     return types, weapon_types, knife_types\n",
        "\n",
        "# types, weapon_types, knife_types = get_all_types_and_weapon_types()\n",
        "\n",
        "# print(f\"Types: {types}\")\n",
        "# print(f\"Weapon types: {weapon_types}\")\n",
        "# print(f\"Knife types: {knife_types}\")\n"
      ],
      "metadata": {
        "id": "VhDwC_JVhV5W"
      },
      "execution_count": null,
      "outputs": []
    },
    {
      "cell_type": "markdown",
      "source": [
        "Download and organize pictures for every single item on market"
      ],
      "metadata": {
        "id": "BKqdPMDKhaM1"
      }
    },
    {
      "cell_type": "code",
      "source": [
        "import requests\n",
        "import os\n",
        "\n",
        "def download_icons(item_type, weapon_type=None, knife_type=None, base_folder='images'):\n",
        "    # API endpoint URL\n",
        "    url = \"http://csgobackpack.net/api/GetItemsList/v2/\"\n",
        "\n",
        "    # Send GET request to the API endpoint\n",
        "    response = requests.get(url)\n",
        "\n",
        "    # If the request was successful\n",
        "    if response.status_code == 200:\n",
        "        data = response.json()\n",
        "        for i, (item_name, item_properties) in enumerate(data['items_list'].items()):\n",
        "            current_item_type = item_properties.get('type', 'Operator')\n",
        "            current_weapon_type = item_properties.get('weapon_type')\n",
        "            current_knife_type = item_properties.get('knife_type')\n",
        "            # Separate conditions for different types of items\n",
        "            if current_item_type == item_type and weapon_type is None and knife_type is None:\n",
        "                download_image(item_name, item_properties, item_type, base_folder)\n",
        "            elif current_item_type == item_type and current_weapon_type == weapon_type and knife_type is None:\n",
        "                download_image(item_name, item_properties, 'weapons/' + weapon_type, base_folder)\n",
        "            elif current_item_type == item_type and current_weapon_type == weapon_type and current_knife_type == knife_type:\n",
        "                download_image(item_name, item_properties, 'weapons/' + knife_type, base_folder)\n",
        "\n",
        "def download_image(item_name, item_properties, folder_name, base_folder):\n",
        "    # Get the icon URL\n",
        "    icon_url = \"http://cdn.steamcommunity.com/economy/image/\" + item_properties['icon_url']\n",
        "\n",
        "    # Download the icon\n",
        "    icon_response = requests.get(icon_url)\n",
        "\n",
        "    # Check if the request was successful\n",
        "    if icon_response.status_code == 200:\n",
        "        # Create the folder if it does not exist\n",
        "        folder = os.path.join(base_folder, folder_name)\n",
        "        if not os.path.exists(folder):\n",
        "            os.makedirs(folder)\n",
        "\n",
        "        # Define the filename\n",
        "        filename = os.path.join(folder, f\"{item_name}.jpg\")\n",
        "\n",
        "        # Check if the file already exists\n",
        "        if not os.path.isfile(filename):\n",
        "            # Write the image to a file\n",
        "            with open(filename, 'wb') as f:\n",
        "                f.write(icon_response.content)\n",
        "\n",
        "# Call the function for each type and weapon type\n",
        "item_types = ['Collectible', 'Container', 'Gloves', 'Gift', 'Pass', 'Operator','Music Kit', 'Graffiti', 'Weapon', 'Key']  # Fill in with actual types\n",
        "weapon_types = ['Knife', 'Sniper Rifle', 'SMG', 'Rifle', 'Shotgun', 'Pistol', 'Machinegun']\n",
        "knife_types = ['Classic Knife', 'M9 Bayonet', 'Stiletto Knife', 'Gut Knife', 'Nomad Knife', 'Bayonet', 'Skeleton Knife', 'Karambit', 'Flip Knife', 'Shadow Daggers', 'Paracord Knife', 'Survival Knife', 'Talon Knife', 'Bowie Knife', 'Navaja Knife', 'Huntsman Knife', 'Falchion Knife', 'Ursus Knife', 'Butterfly Knife']\n",
        "\n",
        "for item_type in item_types:\n",
        "    if item_type == 'Weapon':\n",
        "        for weapon_type in weapon_types:\n",
        "            if weapon_type == 'Knife':\n",
        "                for knife_type in knife_types:\n",
        "                    download_icons(item_type, weapon_type, knife_type)\n",
        "            else:\n",
        "                download_icons(item_type, weapon_type)\n",
        "    else:\n",
        "        download_icons(item_type)\n"
      ],
      "metadata": {
        "id": "3y8e1jCuhdra"
      },
      "execution_count": null,
      "outputs": []
    },
    {
      "cell_type": "markdown",
      "source": [
        "Zip file each folder\n"
      ],
      "metadata": {
        "id": "6OKTm5Jfhf9I"
      }
    },
    {
      "cell_type": "code",
      "source": [
        "#!zip -r /content/images/weapons/Knives.zip /content/images/weapons/Knives"
      ],
      "metadata": {
        "id": "lnElVUPshhqU"
      },
      "execution_count": null,
      "outputs": []
    }
  ]
}